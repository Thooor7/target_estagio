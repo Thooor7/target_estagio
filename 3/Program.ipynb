{
 "cells": [
  {
   "cell_type": "code",
   "execution_count": 1,
   "id": "0022de8b",
   "metadata": {},
   "outputs": [],
   "source": [
    "import json\n",
    "\n",
    "# Carrega os dados do faturamento diário a partir de um arquivo JSON\n",
    "with open('dados.json', 'r') as file:\n",
    "    faturamento_diario = json.load(file)"
   ]
  },
  {
   "cell_type": "code",
   "execution_count": 4,
   "id": "59847eb3",
   "metadata": {},
   "outputs": [],
   "source": [
    "# Inicializa as variáveis de menor e maior valor de faturamento diário\n",
    "menor_valor = float('inf')\n",
    "maior_valor = float('-inf')\n",
    "\n",
    "soma_valores = 0\n",
    "dias_uteis = 0"
   ]
  },
  {
   "cell_type": "code",
   "execution_count": 5,
   "id": "780f6b37",
   "metadata": {},
   "outputs": [],
   "source": [
    "# Calcula a soma dos valores de faturamento diário e o número de dias úteis no mês\n",
    "for dia in faturamento_diario:\n",
    "    if dia['valor'] != 0:\n",
    "        soma_valores += dia['valor']\n",
    "        dias_uteis += 1\n",
    "        if dia['valor'] < menor_valor:\n",
    "            menor_valor = dia['valor']\n",
    "        if dia['valor'] > maior_valor:\n",
    "            maior_valor = dia['valor']"
   ]
  },
  {
   "cell_type": "code",
   "execution_count": 6,
   "id": "50e3b4ba",
   "metadata": {},
   "outputs": [],
   "source": [
    "# Calcula a média mensal de faturamento diário\n",
    "media_mensal = soma_valores / dias_uteis"
   ]
  },
  {
   "cell_type": "code",
   "execution_count": 7,
   "id": "be28a535",
   "metadata": {},
   "outputs": [],
   "source": [
    "# Conta quantos dias tiveram um valor de faturamento diário superior à média mensal\n",
    "dias_acima_da_media = 0\n",
    "for dia in faturamento_diario:\n",
    "    if dia['valor'] > media_mensal:\n",
    "        dias_acima_da_media += 1"
   ]
  },
  {
   "cell_type": "code",
   "execution_count": 8,
   "id": "583f4f43",
   "metadata": {},
   "outputs": [
    {
     "name": "stdout",
     "output_type": "stream",
     "text": [
      "Menor valor diário: R$373.78\n",
      "Maior valor diário: R$48924.24\n",
      "Número de dias com valor acima da média: 10\n"
     ]
    }
   ],
   "source": [
    "# Imprime os resultados\n",
    "print(f'Menor valor diário: R${menor_valor:.2f}')\n",
    "print(f'Maior valor diário: R${maior_valor:.2f}')\n",
    "print(f'Número de dias com valor acima da média: {dias_acima_da_media}')"
   ]
  }
 ],
 "metadata": {
  "kernelspec": {
   "display_name": "Python 3 (ipykernel)",
   "language": "python",
   "name": "python3"
  },
  "language_info": {
   "codemirror_mode": {
    "name": "ipython",
    "version": 3
   },
   "file_extension": ".py",
   "mimetype": "text/x-python",
   "name": "python",
   "nbconvert_exporter": "python",
   "pygments_lexer": "ipython3",
   "version": "3.9.13"
  }
 },
 "nbformat": 4,
 "nbformat_minor": 5
}
